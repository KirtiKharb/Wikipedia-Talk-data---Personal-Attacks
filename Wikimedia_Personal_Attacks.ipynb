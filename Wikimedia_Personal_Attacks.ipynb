{
  "nbformat": 4,
  "nbformat_minor": 0,
  "metadata": {
    "colab": {
      "name": "Wikimedia Personal Attacks.ipynb",
      "provenance": []
    },
    "kernelspec": {
      "name": "python3",
      "display_name": "Python 3"
    }
  },
  "cells": [
    {
      "cell_type": "code",
      "metadata": {
        "id": "TpvzdcEjVuvn"
      },
      "source": [
        "import numpy as np\n",
        "import pandas as pd\n",
        "import urllib\n",
        "import urllib.request"
      ],
      "execution_count": 9,
      "outputs": []
    },
    {
      "cell_type": "code",
      "metadata": {
        "id": "knJrfKfzV2vS"
      },
      "source": [
        "ANNOTATED_COMMENTS_URL = 'https://ndownloader.figshare.com/files/7554634' \n",
        "ANNOTATIONS_URL = 'https://ndownloader.figshare.com/files/7554637' \n",
        "\n",
        "\n",
        "def download_file(url, fname):\n",
        "    urllib.request.urlretrieve(url, fname)\n",
        "\n",
        "                \n",
        "download_file(ANNOTATED_COMMENTS_URL, 'attack_annotated_comments.tsv')\n",
        "download_file(ANNOTATIONS_URL, 'attack_annotations.tsv')"
      ],
      "execution_count": 10,
      "outputs": []
    },
    {
      "cell_type": "code",
      "metadata": {
        "id": "_pI1s5OjWqI8",
        "outputId": "2069e7a5-05c5-4e96-8e32-23302225e3e3",
        "colab": {
          "base_uri": "https://localhost:8080/",
          "height": 419
        }
      },
      "source": [
        "demo = pd.read_csv('attack_worker_demographics.tsv', sep=\"\\t\")\n",
        "demo"
      ],
      "execution_count": 11,
      "outputs": [
        {
          "output_type": "execute_result",
          "data": {
            "text/html": [
              "<div>\n",
              "<style scoped>\n",
              "    .dataframe tbody tr th:only-of-type {\n",
              "        vertical-align: middle;\n",
              "    }\n",
              "\n",
              "    .dataframe tbody tr th {\n",
              "        vertical-align: top;\n",
              "    }\n",
              "\n",
              "    .dataframe thead th {\n",
              "        text-align: right;\n",
              "    }\n",
              "</style>\n",
              "<table border=\"1\" class=\"dataframe\">\n",
              "  <thead>\n",
              "    <tr style=\"text-align: right;\">\n",
              "      <th></th>\n",
              "      <th>worker_id</th>\n",
              "      <th>gender</th>\n",
              "      <th>english_first_language</th>\n",
              "      <th>age_group</th>\n",
              "      <th>education</th>\n",
              "    </tr>\n",
              "  </thead>\n",
              "  <tbody>\n",
              "    <tr>\n",
              "      <th>0</th>\n",
              "      <td>833</td>\n",
              "      <td>female</td>\n",
              "      <td>0</td>\n",
              "      <td>45-60</td>\n",
              "      <td>bachelors</td>\n",
              "    </tr>\n",
              "    <tr>\n",
              "      <th>1</th>\n",
              "      <td>1072</td>\n",
              "      <td>male</td>\n",
              "      <td>0</td>\n",
              "      <td>30-45</td>\n",
              "      <td>bachelors</td>\n",
              "    </tr>\n",
              "    <tr>\n",
              "      <th>2</th>\n",
              "      <td>872</td>\n",
              "      <td>male</td>\n",
              "      <td>0</td>\n",
              "      <td>18-30</td>\n",
              "      <td>hs</td>\n",
              "    </tr>\n",
              "    <tr>\n",
              "      <th>3</th>\n",
              "      <td>2116</td>\n",
              "      <td>male</td>\n",
              "      <td>0</td>\n",
              "      <td>30-45</td>\n",
              "      <td>professional</td>\n",
              "    </tr>\n",
              "    <tr>\n",
              "      <th>4</th>\n",
              "      <td>453</td>\n",
              "      <td>male</td>\n",
              "      <td>0</td>\n",
              "      <td>30-45</td>\n",
              "      <td>hs</td>\n",
              "    </tr>\n",
              "    <tr>\n",
              "      <th>...</th>\n",
              "      <td>...</td>\n",
              "      <td>...</td>\n",
              "      <td>...</td>\n",
              "      <td>...</td>\n",
              "      <td>...</td>\n",
              "    </tr>\n",
              "    <tr>\n",
              "      <th>2185</th>\n",
              "      <td>1442</td>\n",
              "      <td>male</td>\n",
              "      <td>0</td>\n",
              "      <td>18-30</td>\n",
              "      <td>hs</td>\n",
              "    </tr>\n",
              "    <tr>\n",
              "      <th>2186</th>\n",
              "      <td>529</td>\n",
              "      <td>female</td>\n",
              "      <td>0</td>\n",
              "      <td>30-45</td>\n",
              "      <td>hs</td>\n",
              "    </tr>\n",
              "    <tr>\n",
              "      <th>2187</th>\n",
              "      <td>2036</td>\n",
              "      <td>female</td>\n",
              "      <td>0</td>\n",
              "      <td>18-30</td>\n",
              "      <td>masters</td>\n",
              "    </tr>\n",
              "    <tr>\n",
              "      <th>2188</th>\n",
              "      <td>393</td>\n",
              "      <td>female</td>\n",
              "      <td>0</td>\n",
              "      <td>18-30</td>\n",
              "      <td>masters</td>\n",
              "    </tr>\n",
              "    <tr>\n",
              "      <th>2189</th>\n",
              "      <td>3876</td>\n",
              "      <td>female</td>\n",
              "      <td>1</td>\n",
              "      <td>30-45</td>\n",
              "      <td>bachelors</td>\n",
              "    </tr>\n",
              "  </tbody>\n",
              "</table>\n",
              "<p>2190 rows × 5 columns</p>\n",
              "</div>"
            ],
            "text/plain": [
              "      worker_id  gender  english_first_language age_group     education\n",
              "0           833  female                       0     45-60     bachelors\n",
              "1          1072    male                       0     30-45     bachelors\n",
              "2           872    male                       0     18-30            hs\n",
              "3          2116    male                       0     30-45  professional\n",
              "4           453    male                       0     30-45            hs\n",
              "...         ...     ...                     ...       ...           ...\n",
              "2185       1442    male                       0     18-30            hs\n",
              "2186        529  female                       0     30-45            hs\n",
              "2187       2036  female                       0     18-30       masters\n",
              "2188        393  female                       0     18-30       masters\n",
              "2189       3876  female                       1     30-45     bachelors\n",
              "\n",
              "[2190 rows x 5 columns]"
            ]
          },
          "metadata": {
            "tags": []
          },
          "execution_count": 11
        }
      ]
    },
    {
      "cell_type": "code",
      "metadata": {
        "id": "kW-THowPWroo",
        "outputId": "8d1dee53-e8a5-4191-b52a-f09e452eeebd",
        "colab": {
          "base_uri": "https://localhost:8080/",
          "height": 68
        }
      },
      "source": [
        "print(len(demo))\n",
        "print(len(demo[demo[\"gender\"]==\"female\"]))\n",
        "print(len(demo[demo[\"gender\"]==\"male\"]))"
      ],
      "execution_count": 12,
      "outputs": [
        {
          "output_type": "stream",
          "text": [
            "2190\n",
            "840\n",
            "1349\n"
          ],
          "name": "stdout"
        }
      ]
    },
    {
      "cell_type": "code",
      "metadata": {
        "id": "Kt9IR-RfWuWx",
        "outputId": "11fb95a8-a715-48e4-962a-385b297becb2",
        "colab": {
          "base_uri": "https://localhost:8080/",
          "height": 51
        }
      },
      "source": [
        "print(len(demo[demo[\"english_first_language\"]==1]))\n",
        "print(len(demo[demo[\"english_first_language\"]==0]))"
      ],
      "execution_count": 13,
      "outputs": [
        {
          "output_type": "stream",
          "text": [
            "402\n",
            "1788\n"
          ],
          "name": "stdout"
        }
      ]
    },
    {
      "cell_type": "code",
      "metadata": {
        "id": "d_fvEF7WWwhi",
        "outputId": "8668da44-7174-4d0d-ce92-e89f44417017",
        "colab": {
          "base_uri": "https://localhost:8080/",
          "height": 34
        }
      },
      "source": [
        "set(demo[\"education\"])"
      ],
      "execution_count": 14,
      "outputs": [
        {
          "output_type": "execute_result",
          "data": {
            "text/plain": [
              "{'bachelors', 'doctorate', 'hs', 'masters', 'none', 'professional', 'some'}"
            ]
          },
          "metadata": {
            "tags": []
          },
          "execution_count": 14
        }
      ]
    },
    {
      "cell_type": "code",
      "metadata": {
        "id": "-VQG16k8WzB-",
        "outputId": "dc48443c-a989-444b-b9af-436610b7e8ef",
        "colab": {
          "base_uri": "https://localhost:8080/",
          "height": 136
        }
      },
      "source": [
        "print(len(demo[demo[\"education\"]=='bachelors']))\n",
        "print(len(demo[demo[\"education\"]=='doctorate']))\n",
        "print(len(demo[demo[\"education\"]=='masters']))\n",
        "print(len(demo[demo[\"education\"]=='hs']))\n",
        "print(len(demo[demo[\"education\"]=='none']))\n",
        "print(len(demo[demo[\"education\"]=='some']))\n",
        "print(len(demo[demo[\"education\"]=='professional']))"
      ],
      "execution_count": 15,
      "outputs": [
        {
          "output_type": "stream",
          "text": [
            "862\n",
            "20\n",
            "385\n",
            "631\n",
            "1\n",
            "48\n",
            "243\n"
          ],
          "name": "stdout"
        }
      ]
    },
    {
      "cell_type": "code",
      "metadata": {
        "id": "ydaeND33W1y6",
        "outputId": "f1481e21-84c3-43f7-dc38-0a6b3ebd52b7",
        "colab": {
          "base_uri": "https://localhost:8080/",
          "height": 34
        }
      },
      "source": [
        "set(demo[\"age_group\"])"
      ],
      "execution_count": 16,
      "outputs": [
        {
          "output_type": "execute_result",
          "data": {
            "text/plain": [
              "{'18-30', '30-45', '45-60', 'Over 60', 'Under 18', nan}"
            ]
          },
          "metadata": {
            "tags": []
          },
          "execution_count": 16
        }
      ]
    },
    {
      "cell_type": "code",
      "metadata": {
        "id": "GF_U3QZEW4E5",
        "outputId": "0d828a00-73d0-472c-937e-c8a14de30ade",
        "colab": {
          "base_uri": "https://localhost:8080/",
          "height": 119
        }
      },
      "source": [
        "print(len(demo[demo[\"age_group\"]=='18-30']))\n",
        "print(len(demo[demo[\"age_group\"]=='30-45']))\n",
        "print(len(demo[demo[\"age_group\"]=='45-60']))\n",
        "print(len(demo[demo[\"age_group\"]=='Over 60']))\n",
        "print(len(demo[demo[\"age_group\"]=='Under 18']))\n",
        "print(len(demo[demo[\"age_group\"].isnull()]))"
      ],
      "execution_count": 18,
      "outputs": [
        {
          "output_type": "stream",
          "text": [
            "1049\n",
            "831\n",
            "218\n",
            "20\n",
            "37\n",
            "35\n"
          ],
          "name": "stdout"
        }
      ]
    },
    {
      "cell_type": "code",
      "metadata": {
        "id": "Ito8QwQzW7rk",
        "outputId": "43dd89ef-1d47-4329-fd42-03a500dae071",
        "colab": {
          "base_uri": "https://localhost:8080/",
          "height": 419
        }
      },
      "source": [
        "annotations = pd.read_csv('attack_annotations.tsv',  sep = '\\t')\n",
        "annotations"
      ],
      "execution_count": 20,
      "outputs": [
        {
          "output_type": "execute_result",
          "data": {
            "text/html": [
              "<div>\n",
              "<style scoped>\n",
              "    .dataframe tbody tr th:only-of-type {\n",
              "        vertical-align: middle;\n",
              "    }\n",
              "\n",
              "    .dataframe tbody tr th {\n",
              "        vertical-align: top;\n",
              "    }\n",
              "\n",
              "    .dataframe thead th {\n",
              "        text-align: right;\n",
              "    }\n",
              "</style>\n",
              "<table border=\"1\" class=\"dataframe\">\n",
              "  <thead>\n",
              "    <tr style=\"text-align: right;\">\n",
              "      <th></th>\n",
              "      <th>rev_id</th>\n",
              "      <th>worker_id</th>\n",
              "      <th>quoting_attack</th>\n",
              "      <th>recipient_attack</th>\n",
              "      <th>third_party_attack</th>\n",
              "      <th>other_attack</th>\n",
              "      <th>attack</th>\n",
              "    </tr>\n",
              "  </thead>\n",
              "  <tbody>\n",
              "    <tr>\n",
              "      <th>0</th>\n",
              "      <td>37675</td>\n",
              "      <td>1362</td>\n",
              "      <td>0.0</td>\n",
              "      <td>0.0</td>\n",
              "      <td>0.0</td>\n",
              "      <td>0.0</td>\n",
              "      <td>0.0</td>\n",
              "    </tr>\n",
              "    <tr>\n",
              "      <th>1</th>\n",
              "      <td>37675</td>\n",
              "      <td>2408</td>\n",
              "      <td>0.0</td>\n",
              "      <td>0.0</td>\n",
              "      <td>0.0</td>\n",
              "      <td>0.0</td>\n",
              "      <td>0.0</td>\n",
              "    </tr>\n",
              "    <tr>\n",
              "      <th>2</th>\n",
              "      <td>37675</td>\n",
              "      <td>1493</td>\n",
              "      <td>0.0</td>\n",
              "      <td>0.0</td>\n",
              "      <td>0.0</td>\n",
              "      <td>0.0</td>\n",
              "      <td>0.0</td>\n",
              "    </tr>\n",
              "    <tr>\n",
              "      <th>3</th>\n",
              "      <td>37675</td>\n",
              "      <td>1439</td>\n",
              "      <td>0.0</td>\n",
              "      <td>0.0</td>\n",
              "      <td>0.0</td>\n",
              "      <td>0.0</td>\n",
              "      <td>0.0</td>\n",
              "    </tr>\n",
              "    <tr>\n",
              "      <th>4</th>\n",
              "      <td>37675</td>\n",
              "      <td>170</td>\n",
              "      <td>0.0</td>\n",
              "      <td>0.0</td>\n",
              "      <td>0.0</td>\n",
              "      <td>0.0</td>\n",
              "      <td>0.0</td>\n",
              "    </tr>\n",
              "    <tr>\n",
              "      <th>...</th>\n",
              "      <td>...</td>\n",
              "      <td>...</td>\n",
              "      <td>...</td>\n",
              "      <td>...</td>\n",
              "      <td>...</td>\n",
              "      <td>...</td>\n",
              "      <td>...</td>\n",
              "    </tr>\n",
              "    <tr>\n",
              "      <th>1365212</th>\n",
              "      <td>699897151</td>\n",
              "      <td>628</td>\n",
              "      <td>0.0</td>\n",
              "      <td>0.0</td>\n",
              "      <td>0.0</td>\n",
              "      <td>0.0</td>\n",
              "      <td>0.0</td>\n",
              "    </tr>\n",
              "    <tr>\n",
              "      <th>1365213</th>\n",
              "      <td>699897151</td>\n",
              "      <td>15</td>\n",
              "      <td>0.0</td>\n",
              "      <td>0.0</td>\n",
              "      <td>0.0</td>\n",
              "      <td>0.0</td>\n",
              "      <td>0.0</td>\n",
              "    </tr>\n",
              "    <tr>\n",
              "      <th>1365214</th>\n",
              "      <td>699897151</td>\n",
              "      <td>57</td>\n",
              "      <td>0.0</td>\n",
              "      <td>0.0</td>\n",
              "      <td>0.0</td>\n",
              "      <td>0.0</td>\n",
              "      <td>0.0</td>\n",
              "    </tr>\n",
              "    <tr>\n",
              "      <th>1365215</th>\n",
              "      <td>699897151</td>\n",
              "      <td>1815</td>\n",
              "      <td>0.0</td>\n",
              "      <td>0.0</td>\n",
              "      <td>0.0</td>\n",
              "      <td>0.0</td>\n",
              "      <td>0.0</td>\n",
              "    </tr>\n",
              "    <tr>\n",
              "      <th>1365216</th>\n",
              "      <td>699897151</td>\n",
              "      <td>472</td>\n",
              "      <td>0.0</td>\n",
              "      <td>0.0</td>\n",
              "      <td>0.0</td>\n",
              "      <td>0.0</td>\n",
              "      <td>0.0</td>\n",
              "    </tr>\n",
              "  </tbody>\n",
              "</table>\n",
              "<p>1365217 rows × 7 columns</p>\n",
              "</div>"
            ],
            "text/plain": [
              "            rev_id  worker_id  ...  other_attack  attack\n",
              "0            37675       1362  ...           0.0     0.0\n",
              "1            37675       2408  ...           0.0     0.0\n",
              "2            37675       1493  ...           0.0     0.0\n",
              "3            37675       1439  ...           0.0     0.0\n",
              "4            37675        170  ...           0.0     0.0\n",
              "...            ...        ...  ...           ...     ...\n",
              "1365212  699897151        628  ...           0.0     0.0\n",
              "1365213  699897151         15  ...           0.0     0.0\n",
              "1365214  699897151         57  ...           0.0     0.0\n",
              "1365215  699897151       1815  ...           0.0     0.0\n",
              "1365216  699897151        472  ...           0.0     0.0\n",
              "\n",
              "[1365217 rows x 7 columns]"
            ]
          },
          "metadata": {
            "tags": []
          },
          "execution_count": 20
        }
      ]
    },
    {
      "cell_type": "code",
      "metadata": {
        "id": "EscO6UiOXJjd",
        "outputId": "a267e040-56e7-40d8-d422-5e4fe28777f6",
        "colab": {
          "base_uri": "https://localhost:8080/",
          "height": 439
        }
      },
      "source": [
        "anno_attack = demo.join(annotations.set_index(\"worker_id\"), on=\"worker_id\")\n",
        "anno_attack"
      ],
      "execution_count": 23,
      "outputs": [
        {
          "output_type": "execute_result",
          "data": {
            "text/html": [
              "<div>\n",
              "<style scoped>\n",
              "    .dataframe tbody tr th:only-of-type {\n",
              "        vertical-align: middle;\n",
              "    }\n",
              "\n",
              "    .dataframe tbody tr th {\n",
              "        vertical-align: top;\n",
              "    }\n",
              "\n",
              "    .dataframe thead th {\n",
              "        text-align: right;\n",
              "    }\n",
              "</style>\n",
              "<table border=\"1\" class=\"dataframe\">\n",
              "  <thead>\n",
              "    <tr style=\"text-align: right;\">\n",
              "      <th></th>\n",
              "      <th>worker_id</th>\n",
              "      <th>gender</th>\n",
              "      <th>english_first_language</th>\n",
              "      <th>age_group</th>\n",
              "      <th>education</th>\n",
              "      <th>rev_id</th>\n",
              "      <th>quoting_attack</th>\n",
              "      <th>recipient_attack</th>\n",
              "      <th>third_party_attack</th>\n",
              "      <th>other_attack</th>\n",
              "      <th>attack</th>\n",
              "    </tr>\n",
              "  </thead>\n",
              "  <tbody>\n",
              "    <tr>\n",
              "      <th>0</th>\n",
              "      <td>833</td>\n",
              "      <td>female</td>\n",
              "      <td>0</td>\n",
              "      <td>45-60</td>\n",
              "      <td>bachelors</td>\n",
              "      <td>4763903</td>\n",
              "      <td>0.0</td>\n",
              "      <td>0.0</td>\n",
              "      <td>0.0</td>\n",
              "      <td>0.0</td>\n",
              "      <td>0.0</td>\n",
              "    </tr>\n",
              "    <tr>\n",
              "      <th>0</th>\n",
              "      <td>833</td>\n",
              "      <td>female</td>\n",
              "      <td>0</td>\n",
              "      <td>45-60</td>\n",
              "      <td>bachelors</td>\n",
              "      <td>5350726</td>\n",
              "      <td>0.0</td>\n",
              "      <td>0.0</td>\n",
              "      <td>0.0</td>\n",
              "      <td>0.0</td>\n",
              "      <td>0.0</td>\n",
              "    </tr>\n",
              "    <tr>\n",
              "      <th>0</th>\n",
              "      <td>833</td>\n",
              "      <td>female</td>\n",
              "      <td>0</td>\n",
              "      <td>45-60</td>\n",
              "      <td>bachelors</td>\n",
              "      <td>5838638</td>\n",
              "      <td>0.0</td>\n",
              "      <td>0.0</td>\n",
              "      <td>0.0</td>\n",
              "      <td>0.0</td>\n",
              "      <td>0.0</td>\n",
              "    </tr>\n",
              "    <tr>\n",
              "      <th>0</th>\n",
              "      <td>833</td>\n",
              "      <td>female</td>\n",
              "      <td>0</td>\n",
              "      <td>45-60</td>\n",
              "      <td>bachelors</td>\n",
              "      <td>6270546</td>\n",
              "      <td>0.0</td>\n",
              "      <td>0.0</td>\n",
              "      <td>0.0</td>\n",
              "      <td>0.0</td>\n",
              "      <td>0.0</td>\n",
              "    </tr>\n",
              "    <tr>\n",
              "      <th>0</th>\n",
              "      <td>833</td>\n",
              "      <td>female</td>\n",
              "      <td>0</td>\n",
              "      <td>45-60</td>\n",
              "      <td>bachelors</td>\n",
              "      <td>6735507</td>\n",
              "      <td>0.0</td>\n",
              "      <td>0.0</td>\n",
              "      <td>0.0</td>\n",
              "      <td>0.0</td>\n",
              "      <td>0.0</td>\n",
              "    </tr>\n",
              "    <tr>\n",
              "      <th>...</th>\n",
              "      <td>...</td>\n",
              "      <td>...</td>\n",
              "      <td>...</td>\n",
              "      <td>...</td>\n",
              "      <td>...</td>\n",
              "      <td>...</td>\n",
              "      <td>...</td>\n",
              "      <td>...</td>\n",
              "      <td>...</td>\n",
              "      <td>...</td>\n",
              "      <td>...</td>\n",
              "    </tr>\n",
              "    <tr>\n",
              "      <th>2189</th>\n",
              "      <td>3876</td>\n",
              "      <td>female</td>\n",
              "      <td>1</td>\n",
              "      <td>30-45</td>\n",
              "      <td>bachelors</td>\n",
              "      <td>297618709</td>\n",
              "      <td>0.0</td>\n",
              "      <td>0.0</td>\n",
              "      <td>0.0</td>\n",
              "      <td>0.0</td>\n",
              "      <td>0.0</td>\n",
              "    </tr>\n",
              "    <tr>\n",
              "      <th>2189</th>\n",
              "      <td>3876</td>\n",
              "      <td>female</td>\n",
              "      <td>1</td>\n",
              "      <td>30-45</td>\n",
              "      <td>bachelors</td>\n",
              "      <td>431984398</td>\n",
              "      <td>0.0</td>\n",
              "      <td>0.0</td>\n",
              "      <td>0.0</td>\n",
              "      <td>0.0</td>\n",
              "      <td>0.0</td>\n",
              "    </tr>\n",
              "    <tr>\n",
              "      <th>2189</th>\n",
              "      <td>3876</td>\n",
              "      <td>female</td>\n",
              "      <td>1</td>\n",
              "      <td>30-45</td>\n",
              "      <td>bachelors</td>\n",
              "      <td>480154536</td>\n",
              "      <td>0.0</td>\n",
              "      <td>0.0</td>\n",
              "      <td>0.0</td>\n",
              "      <td>0.0</td>\n",
              "      <td>0.0</td>\n",
              "    </tr>\n",
              "    <tr>\n",
              "      <th>2189</th>\n",
              "      <td>3876</td>\n",
              "      <td>female</td>\n",
              "      <td>1</td>\n",
              "      <td>30-45</td>\n",
              "      <td>bachelors</td>\n",
              "      <td>515614948</td>\n",
              "      <td>0.0</td>\n",
              "      <td>0.0</td>\n",
              "      <td>0.0</td>\n",
              "      <td>0.0</td>\n",
              "      <td>0.0</td>\n",
              "    </tr>\n",
              "    <tr>\n",
              "      <th>2189</th>\n",
              "      <td>3876</td>\n",
              "      <td>female</td>\n",
              "      <td>1</td>\n",
              "      <td>30-45</td>\n",
              "      <td>bachelors</td>\n",
              "      <td>582671782</td>\n",
              "      <td>0.0</td>\n",
              "      <td>0.0</td>\n",
              "      <td>0.0</td>\n",
              "      <td>0.0</td>\n",
              "      <td>0.0</td>\n",
              "    </tr>\n",
              "  </tbody>\n",
              "</table>\n",
              "<p>855514 rows × 11 columns</p>\n",
              "</div>"
            ],
            "text/plain": [
              "      worker_id  gender  ...  other_attack attack\n",
              "0           833  female  ...           0.0    0.0\n",
              "0           833  female  ...           0.0    0.0\n",
              "0           833  female  ...           0.0    0.0\n",
              "0           833  female  ...           0.0    0.0\n",
              "0           833  female  ...           0.0    0.0\n",
              "...         ...     ...  ...           ...    ...\n",
              "2189       3876  female  ...           0.0    0.0\n",
              "2189       3876  female  ...           0.0    0.0\n",
              "2189       3876  female  ...           0.0    0.0\n",
              "2189       3876  female  ...           0.0    0.0\n",
              "2189       3876  female  ...           0.0    0.0\n",
              "\n",
              "[855514 rows x 11 columns]"
            ]
          },
          "metadata": {
            "tags": []
          },
          "execution_count": 23
        }
      ]
    },
    {
      "cell_type": "code",
      "metadata": {
        "id": "WUW7uSFAXFTM",
        "outputId": "afce890c-7fdd-4acc-c456-6f285d3b0e05",
        "colab": {
          "base_uri": "https://localhost:8080/",
          "height": 85
        }
      },
      "source": [
        "idx_female = np.where((anno_attack[\"attack\"]== 1.0) & (anno_attack[\"gender\"]==\"female\"))\n",
        "idx_male = np.where((anno_attack[\"attack\"]== 1.0) & (anno_attack[\"gender\"]==\"male\"))\n",
        "print(len(idx_female[0])/len(anno_attack[anno_attack[\"gender\"]==\"female\"]))\n",
        "print(len(idx_male[0])/len(anno_attack[anno_attack[\"gender\"]==\"male\"]))\n",
        "print((len(anno_attack[anno_attack[\"gender\"]==\"female\"])))\n",
        "print((len(anno_attack[anno_attack[\"gender\"]==\"male\"])))"
      ],
      "execution_count": 24,
      "outputs": [
        {
          "output_type": "stream",
          "text": [
            "0.17359779034933123\n",
            "0.15869094948550047\n",
            "308103\n",
            "547328\n"
          ],
          "name": "stdout"
        }
      ]
    },
    {
      "cell_type": "code",
      "metadata": {
        "id": "eQ8O4WNMXjY6",
        "outputId": "d361f90f-9a8d-4183-eedd-5ab8ffbc50cf",
        "colab": {
          "base_uri": "https://localhost:8080/",
          "height": 85
        }
      },
      "source": [
        "print(len(anno_attack[anno_attack[\"recipient_attack\"]==1]))\n",
        "print(len(anno_attack[anno_attack[\"third_party_attack\"]==1]))\n",
        "print(len(anno_attack[anno_attack[\"other_attack\"]==1]))\n",
        "print(len(anno_attack[anno_attack[\"quoting_attack\"]==1]))"
      ],
      "execution_count": 25,
      "outputs": [
        {
          "output_type": "stream",
          "text": [
            "92682\n",
            "29552\n",
            "27886\n",
            "6522\n"
          ],
          "name": "stdout"
        }
      ]
    },
    {
      "cell_type": "code",
      "metadata": {
        "id": "s6_w3skDY_0Q",
        "outputId": "8c2e9ea5-a2d0-4b95-c834-c093fb95ca8f",
        "colab": {
          "base_uri": "https://localhost:8080/",
          "height": 450
        }
      },
      "source": [
        "comments = pd.read_csv('attack_annotated_comments.tsv', sep = '\\t', index_col = 0)\n",
        "comments"
      ],
      "execution_count": 26,
      "outputs": [
        {
          "output_type": "execute_result",
          "data": {
            "text/html": [
              "<div>\n",
              "<style scoped>\n",
              "    .dataframe tbody tr th:only-of-type {\n",
              "        vertical-align: middle;\n",
              "    }\n",
              "\n",
              "    .dataframe tbody tr th {\n",
              "        vertical-align: top;\n",
              "    }\n",
              "\n",
              "    .dataframe thead th {\n",
              "        text-align: right;\n",
              "    }\n",
              "</style>\n",
              "<table border=\"1\" class=\"dataframe\">\n",
              "  <thead>\n",
              "    <tr style=\"text-align: right;\">\n",
              "      <th></th>\n",
              "      <th>comment</th>\n",
              "      <th>year</th>\n",
              "      <th>logged_in</th>\n",
              "      <th>ns</th>\n",
              "      <th>sample</th>\n",
              "      <th>split</th>\n",
              "    </tr>\n",
              "    <tr>\n",
              "      <th>rev_id</th>\n",
              "      <th></th>\n",
              "      <th></th>\n",
              "      <th></th>\n",
              "      <th></th>\n",
              "      <th></th>\n",
              "      <th></th>\n",
              "    </tr>\n",
              "  </thead>\n",
              "  <tbody>\n",
              "    <tr>\n",
              "      <th>37675</th>\n",
              "      <td>`-NEWLINE_TOKENThis is not ``creative``.  Thos...</td>\n",
              "      <td>2002</td>\n",
              "      <td>False</td>\n",
              "      <td>article</td>\n",
              "      <td>random</td>\n",
              "      <td>train</td>\n",
              "    </tr>\n",
              "    <tr>\n",
              "      <th>44816</th>\n",
              "      <td>`NEWLINE_TOKENNEWLINE_TOKEN:: the term ``stand...</td>\n",
              "      <td>2002</td>\n",
              "      <td>False</td>\n",
              "      <td>article</td>\n",
              "      <td>random</td>\n",
              "      <td>train</td>\n",
              "    </tr>\n",
              "    <tr>\n",
              "      <th>49851</th>\n",
              "      <td>NEWLINE_TOKENNEWLINE_TOKENTrue or false, the s...</td>\n",
              "      <td>2002</td>\n",
              "      <td>False</td>\n",
              "      <td>article</td>\n",
              "      <td>random</td>\n",
              "      <td>train</td>\n",
              "    </tr>\n",
              "    <tr>\n",
              "      <th>89320</th>\n",
              "      <td>Next, maybe you could work on being less cond...</td>\n",
              "      <td>2002</td>\n",
              "      <td>True</td>\n",
              "      <td>article</td>\n",
              "      <td>random</td>\n",
              "      <td>dev</td>\n",
              "    </tr>\n",
              "    <tr>\n",
              "      <th>93890</th>\n",
              "      <td>This page will need disambiguation.</td>\n",
              "      <td>2002</td>\n",
              "      <td>True</td>\n",
              "      <td>article</td>\n",
              "      <td>random</td>\n",
              "      <td>train</td>\n",
              "    </tr>\n",
              "    <tr>\n",
              "      <th>...</th>\n",
              "      <td>...</td>\n",
              "      <td>...</td>\n",
              "      <td>...</td>\n",
              "      <td>...</td>\n",
              "      <td>...</td>\n",
              "      <td>...</td>\n",
              "    </tr>\n",
              "    <tr>\n",
              "      <th>699848324</th>\n",
              "      <td>`NEWLINE_TOKENNEWLINE_TOKENNEWLINE_TOKENThese ...</td>\n",
              "      <td>2016</td>\n",
              "      <td>True</td>\n",
              "      <td>article</td>\n",
              "      <td>blocked</td>\n",
              "      <td>train</td>\n",
              "    </tr>\n",
              "    <tr>\n",
              "      <th>699851288</th>\n",
              "      <td>NEWLINE_TOKENNEWLINE_TOKENThe Institute for Hi...</td>\n",
              "      <td>2016</td>\n",
              "      <td>True</td>\n",
              "      <td>article</td>\n",
              "      <td>blocked</td>\n",
              "      <td>test</td>\n",
              "    </tr>\n",
              "    <tr>\n",
              "      <th>699857133</th>\n",
              "      <td>NEWLINE_TOKEN:The way you're trying to describ...</td>\n",
              "      <td>2016</td>\n",
              "      <td>True</td>\n",
              "      <td>article</td>\n",
              "      <td>blocked</td>\n",
              "      <td>train</td>\n",
              "    </tr>\n",
              "    <tr>\n",
              "      <th>699891012</th>\n",
              "      <td>NEWLINE_TOKENNEWLINE_TOKEN== Warning ==NEWLINE...</td>\n",
              "      <td>2016</td>\n",
              "      <td>True</td>\n",
              "      <td>user</td>\n",
              "      <td>blocked</td>\n",
              "      <td>dev</td>\n",
              "    </tr>\n",
              "    <tr>\n",
              "      <th>699897151</th>\n",
              "      <td>Alternate option===NEWLINE_TOKENIs there perha...</td>\n",
              "      <td>2016</td>\n",
              "      <td>True</td>\n",
              "      <td>article</td>\n",
              "      <td>blocked</td>\n",
              "      <td>train</td>\n",
              "    </tr>\n",
              "  </tbody>\n",
              "</table>\n",
              "<p>115864 rows × 6 columns</p>\n",
              "</div>"
            ],
            "text/plain": [
              "                                                     comment  ...  split\n",
              "rev_id                                                        ...       \n",
              "37675      `-NEWLINE_TOKENThis is not ``creative``.  Thos...  ...  train\n",
              "44816      `NEWLINE_TOKENNEWLINE_TOKEN:: the term ``stand...  ...  train\n",
              "49851      NEWLINE_TOKENNEWLINE_TOKENTrue or false, the s...  ...  train\n",
              "89320       Next, maybe you could work on being less cond...  ...    dev\n",
              "93890                   This page will need disambiguation.   ...  train\n",
              "...                                                      ...  ...    ...\n",
              "699848324  `NEWLINE_TOKENNEWLINE_TOKENNEWLINE_TOKENThese ...  ...  train\n",
              "699851288  NEWLINE_TOKENNEWLINE_TOKENThe Institute for Hi...  ...   test\n",
              "699857133  NEWLINE_TOKEN:The way you're trying to describ...  ...  train\n",
              "699891012  NEWLINE_TOKENNEWLINE_TOKEN== Warning ==NEWLINE...  ...    dev\n",
              "699897151  Alternate option===NEWLINE_TOKENIs there perha...  ...  train\n",
              "\n",
              "[115864 rows x 6 columns]"
            ]
          },
          "metadata": {
            "tags": []
          },
          "execution_count": 26
        }
      ]
    },
    {
      "cell_type": "code",
      "metadata": {
        "id": "XZaDo2_pbeCj",
        "outputId": "392da960-e249-4c15-b8e3-ae64c92c51b3",
        "colab": {
          "base_uri": "https://localhost:8080/",
          "height": 51
        }
      },
      "source": [
        "print(len(comments[comments[\"ns\"]==\"article\"]))\n",
        "print(len(comments[comments[\"ns\"]==\"user\"]))"
      ],
      "execution_count": 30,
      "outputs": [
        {
          "output_type": "stream",
          "text": [
            "51317\n",
            "64547\n"
          ],
          "name": "stdout"
        }
      ]
    }
  ]
}